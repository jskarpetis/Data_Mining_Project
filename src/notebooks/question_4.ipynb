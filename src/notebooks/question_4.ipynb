{
 "cells": [
  {
   "cell_type": "code",
   "execution_count": 256,
   "metadata": {},
   "outputs": [],
   "source": [
    "import os\n",
    "import pandas as pd\n",
    "import numpy as np\n",
    "import re\n",
    "import matplotlib.pyplot as plt\n",
    "import random\n",
    "from keras.preprocessing.text import one_hot\n",
    "from keras.preprocessing.sequence import pad_sequences\n",
    "import tensorflow as tf\n",
    "from sklearn.preprocessing import StandardScaler\n",
    "from sklearn.ensemble import RandomForestClassifier\n",
    "from sklearn.ensemble import RandomForestRegressor\n",
    "from sklearn.metrics import classification_report\n",
    "from sklearn.model_selection import train_test_split"
   ]
  },
  {
   "cell_type": "code",
   "execution_count": 257,
   "metadata": {},
   "outputs": [],
   "source": [
    "vocab_size = 20000"
   ]
  },
  {
   "cell_type": "code",
   "execution_count": 258,
   "metadata": {},
   "outputs": [],
   "source": [
    "def tokenize_sentence(sentence):\n",
    "\n",
    "    sentence_strip_numbers = re.sub(r\"[0-9]+\", \"\", sentence)\n",
    "    final_sentence = re.sub(\n",
    "        r\"!|@|#|$|%|^|&|:|;|'|<|>|/|-|=|(|)|\", \"\", sentence_strip_numbers)\n",
    "    final_sentence = re.sub('[\\W\\_]',' ', final_sentence)\n",
    "\n",
    "    split_sentence = re.split('\\s+', final_sentence)\n",
    "    # new_sentence = [word_tokenize(word) for word in split_sentence]\n",
    "    return split_sentence"
   ]
  },
  {
   "cell_type": "code",
   "execution_count": 259,
   "metadata": {},
   "outputs": [],
   "source": [
    "def pre_model_processing(summary):\n",
    "    tokenized_sentence = str(tokenize_sentence(summary))\n",
    "    # print(tokenized_sentence)\n",
    "    encoded_data = [one_hot(tokenized_sentence, vocab_size)]\n",
    "    # print(encoded_data)\n",
    "    return np.array(encoded_data[0])"
   ]
  },
  {
   "cell_type": "code",
   "execution_count": 260,
   "metadata": {},
   "outputs": [
    {
     "data": {
      "text/html": [
       "<div>\n",
       "<style scoped>\n",
       "    .dataframe tbody tr th:only-of-type {\n",
       "        vertical-align: middle;\n",
       "    }\n",
       "\n",
       "    .dataframe tbody tr th {\n",
       "        vertical-align: top;\n",
       "    }\n",
       "\n",
       "    .dataframe thead th {\n",
       "        text-align: right;\n",
       "    }\n",
       "</style>\n",
       "<table border=\"1\" class=\"dataframe\">\n",
       "  <thead>\n",
       "    <tr style=\"text-align: right;\">\n",
       "      <th></th>\n",
       "      <th>Text</th>\n",
       "      <th>Score</th>\n",
       "    </tr>\n",
       "  </thead>\n",
       "  <tbody>\n",
       "    <tr>\n",
       "      <th>0</th>\n",
       "      <td>The description and photo on this product need...</td>\n",
       "      <td>3</td>\n",
       "    </tr>\n",
       "    <tr>\n",
       "      <th>1</th>\n",
       "      <td>This was a great book!!!! It is well thought t...</td>\n",
       "      <td>5</td>\n",
       "    </tr>\n",
       "    <tr>\n",
       "      <th>2</th>\n",
       "      <td>I am a first year teacher, teaching 5th grade....</td>\n",
       "      <td>5</td>\n",
       "    </tr>\n",
       "    <tr>\n",
       "      <th>3</th>\n",
       "      <td>I got the book at my bookfair at school lookin...</td>\n",
       "      <td>5</td>\n",
       "    </tr>\n",
       "    <tr>\n",
       "      <th>4</th>\n",
       "      <td>Hi! I'm Martine Redman and I created this puzz...</td>\n",
       "      <td>5</td>\n",
       "    </tr>\n",
       "    <tr>\n",
       "      <th>5</th>\n",
       "      <td>My eight year old loves this game, whenever he...</td>\n",
       "      <td>5</td>\n",
       "    </tr>\n",
       "    <tr>\n",
       "      <th>6</th>\n",
       "      <td>The real joy of this movie doesn't lie in its ...</td>\n",
       "      <td>4</td>\n",
       "    </tr>\n",
       "    <tr>\n",
       "      <th>7</th>\n",
       "      <td>Okay, Tim Burton is genuine. He haunts you wit...</td>\n",
       "      <td>3</td>\n",
       "    </tr>\n",
       "    <tr>\n",
       "      <th>8</th>\n",
       "      <td>Boundaries, along with counseling, has given m...</td>\n",
       "      <td>5</td>\n",
       "    </tr>\n",
       "    <tr>\n",
       "      <th>9</th>\n",
       "      <td>120 colors? I say 120 sticks of fun! And a fre...</td>\n",
       "      <td>5</td>\n",
       "    </tr>\n",
       "  </tbody>\n",
       "</table>\n",
       "</div>"
      ],
      "text/plain": [
       "                                                Text  Score\n",
       "0  The description and photo on this product need...      3\n",
       "1  This was a great book!!!! It is well thought t...      5\n",
       "2  I am a first year teacher, teaching 5th grade....      5\n",
       "3  I got the book at my bookfair at school lookin...      5\n",
       "4  Hi! I'm Martine Redman and I created this puzz...      5\n",
       "5  My eight year old loves this game, whenever he...      5\n",
       "6  The real joy of this movie doesn't lie in its ...      4\n",
       "7  Okay, Tim Burton is genuine. He haunts you wit...      3\n",
       "8  Boundaries, along with counseling, has given m...      5\n",
       "9  120 colors? I say 120 sticks of fun! And a fre...      5"
      ]
     },
     "execution_count": 260,
     "metadata": {},
     "output_type": "execute_result"
    }
   ],
   "source": [
    "amazon_data = pd.read_csv('../../dataset/amazon.csv')\n",
    "amazon_data.head(10)"
   ]
  },
  {
   "cell_type": "code",
   "execution_count": 261,
   "metadata": {},
   "outputs": [
    {
     "data": {
      "text/plain": [
       "array([[<AxesSubplot:title={'center':'Score'}>]], dtype=object)"
      ]
     },
     "execution_count": 261,
     "metadata": {},
     "output_type": "execute_result"
    },
    {
     "data": {
      "image/png": "[encoded data removed]",
      "text/plain": [
       "<Figure size 640x480 with 1 Axes>"
      ]
     },
     "metadata": {},
     "output_type": "display_data"
    }
   ],
   "source": [
    "amazon_data.hist('Score')"
   ]
  },
  {
   "cell_type": "code",
   "execution_count": 262,
   "metadata": {},
   "outputs": [
    {
     "data": {
      "text/plain": [
       "0    The description and photo on this product need...\n",
       "1    This was a great book!!!! It is well thought t...\n",
       "2    I am a first year teacher, teaching 5th grade....\n",
       "3    I got the book at my bookfair at school lookin...\n",
       "4    Hi! I'm Martine Redman and I created this puzz...\n",
       "5    My eight year old loves this game, whenever he...\n",
       "6    The real joy of this movie doesn't lie in its ...\n",
       "7    Okay, Tim Burton is genuine. He haunts you wit...\n",
       "8    Boundaries, along with counseling, has given m...\n",
       "9    120 colors? I say 120 sticks of fun! And a fre...\n",
       "Name: Text, dtype: object"
      ]
     },
     "execution_count": 262,
     "metadata": {},
     "output_type": "execute_result"
    }
   ],
   "source": [
    "summaries = amazon_data['Text']\n",
    "summaries.head(10)"
   ]
  },
  {
   "cell_type": "code",
   "execution_count": 263,
   "metadata": {},
   "outputs": [
    {
     "data": {
      "text/plain": [
       "array(['The description and photo on this product needs to be changed to indicate this product is the BuffalOs version of this beef jerky.',\n",
       "       'This was a great book!!!! It is well thought through, and you can easily imagine the events happening. The Westing Game itself is a great way to tie two things together. The events are well sequenced and exciting. Ellen Raskin wrote a wonderful book',\n",
       "       \"I am a first year teacher, teaching 5th grade. I have a special reading class with high comprehension levels. Reading this book to them was one of the best things I taught them this year. It expanded their minds by allowing them to put themselves in the characters place and was easy for the students to make mind movies. We even used up a whole reading class time in order to finish the book. The students couldn't wait to hear the end. An excellent book that I will be reading every year to my students.\",\n",
       "       ...,\n",
       "       'This works great, but needs a better way to attach. We made our ow with a long stap and two clips that slip around the back of the seat and bed. Works much better',\n",
       "       \"she absolutely LOVES this thing. I dice up green beans and carrots (whatever fits but i like it be be somewhat healthy) and it usually takes her about 30 mins to get all the stuff out. She gets excercise, healthy treats and most of all she is quiet. She asks for it everynight around 7:30. If something happened to this one and the only other i could find cost $100...i would buy it. We have a daughter with e westie and he doesn't give a crap about it though.\",\n",
       "       'I hurt my neck and went to rehab. They had me doing exercises using these therabands to strengthen the areas around my neck.They sold these bands but at a high cost. I went online, searched for theraband and found these here at Amazon. I bought every single resistance bands they had.The colors represent their resistance, I believe yellow being the least, then red, green, blue and I think finally blue being the highest resistance.I like these longer bands since you can cut them where necessary to create whatever length you need.I use these every day to continue to strengthen the area around my neck.'],\n",
       "      dtype=object)"
      ]
     },
     "execution_count": 263,
     "metadata": {},
     "output_type": "execute_result"
    }
   ],
   "source": [
    "summaries_list = summaries.to_numpy()\n",
    "summaries_list"
   ]
  },
  {
   "cell_type": "code",
   "execution_count": 264,
   "metadata": {},
   "outputs": [
    {
     "data": {
      "text/plain": [
       "array([[ 9518, 10609, 12313, ...,     0,     0,     0],\n",
       "       [15186, 18113,  8535, ...,     0,     0,     0],\n",
       "       [14283,  5184,  8535, ...,     0,     0,     0],\n",
       "       ...,\n",
       "       [15186,   141, 16279, ...,     0,     0,     0],\n",
       "       [13399, 17263, 12685, ...,     0,     0,     0],\n",
       "       [14283,  1150, 16568, ...,     0,     0,     0]])"
      ]
     },
     "execution_count": 264,
     "metadata": {},
     "output_type": "execute_result"
    }
   ],
   "source": [
    "max_len = 0\n",
    "processed_data = []\n",
    "for summary in summaries_list:\n",
    "    processed_data.append(pre_model_processing(summary))\n",
    "\n",
    "for summary in processed_data:\n",
    "    if len(summary) > max_len:\n",
    "        max_len = len(summary)\n",
    "\n",
    "\n",
    "processed_data = pad_sequences(processed_data, maxlen=max_len, padding='post')\n",
    "\n",
    "processed_data"
   ]
  },
  {
   "cell_type": "code",
   "execution_count": 265,
   "metadata": {},
   "outputs": [
    {
     "data": {
      "text/plain": [
       "array([[-0.86785926, -0.04203139,  0.27632675, ..., -0.00447218,\n",
       "        -0.00447218, -0.00447218],\n",
       "       [ 0.53352289,  1.19225722, -0.40306303, ..., -0.00447218,\n",
       "        -0.00447218, -0.00447218],\n",
       "       [ 0.31026105, -0.93435758, -0.40306303, ..., -0.00447218,\n",
       "        -0.00447218, -0.00447218],\n",
       "       ...,\n",
       "       [ 0.53352289, -1.76385085,  0.98952418, ..., -0.00447218,\n",
       "        -0.00447218, -0.00447218],\n",
       "       [ 0.09169686,  1.05244575,  0.34322273, ..., -0.00447218,\n",
       "        -0.00447218, -0.00447218],\n",
       "       [ 0.31026105, -1.5978864 ,  1.04149444, ..., -0.00447218,\n",
       "        -0.00447218, -0.00447218]])"
      ]
     },
     "execution_count": 265,
     "metadata": {},
     "output_type": "execute_result"
    }
   ],
   "source": [
    "processed_data = np.array(processed_data)\n",
    "processed_data\n",
    "\n",
    "scaled_data = StandardScaler().fit_transform(processed_data)\n",
    "scaled_data"
   ]
  },
  {
   "cell_type": "code",
   "execution_count": 266,
   "metadata": {},
   "outputs": [
    {
     "name": "stdout",
     "output_type": "stream",
     "text": [
      "Train_X shape --> (40000, 1524)\tValidation_X shape --> (10000, 1524)\n",
      "Train_Y shape --> (40000,)\tValidation_Y --> (10000,)\n"
     ]
    }
   ],
   "source": [
    "train_X = processed_data[:int(len(processed_data) * 0.8)]\n",
    "validation_X = processed_data[int(len(processed_data) * 0.8):]\n",
    "train_Y = amazon_data['Score'].to_numpy()[:int(len(amazon_data)*0.8)]\n",
    "validation_Y = amazon_data['Score'].to_numpy()[int(len(amazon_data)*0.8):]\n",
    "\n",
    "\n",
    "\n",
    "# train_X , validation_X, train_Y, validation_Y = train_test_split(processed_data,amazon_data['Score'].to_numpy(),test_size=0.2,random_state=1066539)\n",
    "\n",
    "print('Train_X shape --> {}\\tValidation_X shape --> {}'.format(train_X.shape, validation_X.shape))\n",
    "print('Train_Y shape --> {}\\tValidation_Y --> {}'.format(train_Y.shape, validation_Y.shape))\n"
   ]
  },
  {
   "cell_type": "markdown",
   "metadata": {},
   "source": [
    "TRAINING "
   ]
  },
  {
   "cell_type": "code",
   "execution_count": 267,
   "metadata": {},
   "outputs": [
    {
     "name": "stderr",
     "output_type": "stream",
     "text": [
      "[Parallel(n_jobs=4)]: Using backend ThreadingBackend with 4 concurrent workers.\n"
     ]
    },
    {
     "name": "stdout",
     "output_type": "stream",
     "text": [
      "building tree 1 of 30building tree 2 of 30\n",
      "building tree 3 of 30\n",
      "\n",
      "building tree 4 of 30\n",
      "building tree 5 of 30building tree 6 of 30\n",
      "\n",
      "building tree 7 of 30\n",
      "building tree 8 of 30\n",
      "building tree 9 of 30\n",
      "building tree 10 of 30\n",
      "building tree 11 of 30\n",
      "building tree 12 of 30\n",
      "building tree 13 of 30\n",
      "building tree 14 of 30\n",
      "building tree 15 of 30\n",
      "building tree 16 of 30\n",
      "building tree 17 of 30\n",
      "building tree 18 of 30\n",
      "building tree 19 of 30\n",
      "building tree 20 of 30\n",
      "building tree 21 of 30\n",
      "building tree 22 of 30\n",
      "building tree 23 of 30\n",
      "building tree 24 of 30\n",
      "building tree 25 of 30\n",
      "building tree 26 of 30\n",
      "building tree 27 of 30\n",
      "building tree 28 of 30\n",
      "building tree 29 of 30\n",
      "building tree 30 of 30\n"
     ]
    },
    {
     "name": "stderr",
     "output_type": "stream",
     "text": [
      "[Parallel(n_jobs=4)]: Done  30 out of  30 | elapsed:   35.5s finished\n"
     ]
    },
    {
     "data": {
      "text/plain": [
       "RandomForestClassifier(max_features=0.7, n_estimators=30, n_jobs=4,\n",
       "                       random_state=1066539, verbose=2)"
      ]
     },
     "execution_count": 267,
     "metadata": {},
     "output_type": "execute_result"
    }
   ],
   "source": [
    "random_forest_in_greece = RandomForestClassifier(n_estimators=30, verbose=2, max_features=0.7, n_jobs=4, random_state=1066539)\n",
    "random_forest_in_greece.fit(train_X, train_Y)\n"
   ]
  },
  {
   "cell_type": "markdown",
   "metadata": {},
   "source": [
    "TESTING"
   ]
  },
  {
   "cell_type": "markdown",
   "metadata": {},
   "source": [
    "Validation Set Predictions"
   ]
  },
  {
   "cell_type": "markdown",
   "metadata": {},
   "source": [
    "Mean Absolute Error (MAE) is calculated by taking the summation of the absolute difference between the actual and calculated values of each observation over the entire array and then dividing the sum obtained by the number of observations in the array."
   ]
  },
  {
   "cell_type": "code",
   "execution_count": 268,
   "metadata": {},
   "outputs": [
    {
     "name": "stdout",
     "output_type": "stream",
     "text": [
      "Mean Absolute errors: 0.79 degrees.\n"
     ]
    },
    {
     "name": "stderr",
     "output_type": "stream",
     "text": [
      "[Parallel(n_jobs=4)]: Using backend ThreadingBackend with 4 concurrent workers.\n",
      "[Parallel(n_jobs=4)]: Done  30 out of  30 | elapsed:    0.0s finished\n"
     ]
    }
   ],
   "source": [
    "validation_prediction = random_forest_in_greece.predict(validation_X)\n",
    "errors = abs(validation_prediction - validation_Y)\n",
    "\n",
    "print('Mean Absolute errors:', round(np.mean(errors), 2), 'degrees.')"
   ]
  },
  {
   "cell_type": "code",
   "execution_count": 269,
   "metadata": {},
   "outputs": [
    {
     "data": {
      "text/plain": [
       "50.47983333333334"
      ]
     },
     "execution_count": 269,
     "metadata": {},
     "output_type": "execute_result"
    }
   ],
   "source": [
    "# Calculate mean absolute percentage error (MAPE)\n",
    "mape = np.mean(100 * (errors / validation_Y))\n",
    "accuracy = 100 - mape\n",
    "accuracy"
   ]
  },
  {
   "cell_type": "code",
   "execution_count": 270,
   "metadata": {},
   "outputs": [
    {
     "data": {
      "text/plain": [
       "Text(0, 0.5, 'Number of Instances')"
      ]
     },
     "execution_count": 270,
     "metadata": {},
     "output_type": "execute_result"
    },
    {
     "data": {
      "image/png": "[encoded data removed]",
      "text/plain": [
       "<Figure size 640x480 with 1 Axes>"
      ]
     },
     "metadata": {},
     "output_type": "display_data"
    }
   ],
   "source": [
    "dataframe = pd.DataFrame(validation_prediction)\n",
    "\n",
    "dataframe.hist()\n",
    "plt.title('Validation Prediction Bins')\n",
    "plt.xlabel('Bin Labels')\n",
    "plt.ylabel('Number of Instances')\n"
   ]
  },
  {
   "cell_type": "code",
   "execution_count": 271,
   "metadata": {},
   "outputs": [
    {
     "data": {
      "text/html": [
       "<div>\n",
       "<style scoped>\n",
       "    .dataframe tbody tr th:only-of-type {\n",
       "        vertical-align: middle;\n",
       "    }\n",
       "\n",
       "    .dataframe tbody tr th {\n",
       "        vertical-align: top;\n",
       "    }\n",
       "\n",
       "    .dataframe thead th {\n",
       "        text-align: right;\n",
       "    }\n",
       "</style>\n",
       "<table border=\"1\" class=\"dataframe\">\n",
       "  <thead>\n",
       "    <tr style=\"text-align: right;\">\n",
       "      <th></th>\n",
       "      <th>precision</th>\n",
       "      <th>recall</th>\n",
       "      <th>f1-score</th>\n",
       "    </tr>\n",
       "  </thead>\n",
       "  <tbody>\n",
       "    <tr>\n",
       "      <th>1</th>\n",
       "      <td>0.004728</td>\n",
       "      <td>0.121212</td>\n",
       "      <td>0.009101</td>\n",
       "    </tr>\n",
       "    <tr>\n",
       "      <th>2</th>\n",
       "      <td>0.000000</td>\n",
       "      <td>0.000000</td>\n",
       "      <td>0.000000</td>\n",
       "    </tr>\n",
       "    <tr>\n",
       "      <th>3</th>\n",
       "      <td>0.001302</td>\n",
       "      <td>0.100000</td>\n",
       "      <td>0.002571</td>\n",
       "    </tr>\n",
       "    <tr>\n",
       "      <th>4</th>\n",
       "      <td>0.021291</td>\n",
       "      <td>0.190476</td>\n",
       "      <td>0.038300</td>\n",
       "    </tr>\n",
       "    <tr>\n",
       "      <th>5</th>\n",
       "      <td>0.982535</td>\n",
       "      <td>0.643747</td>\n",
       "      <td>0.777853</td>\n",
       "    </tr>\n",
       "    <tr>\n",
       "      <th>accuracy</th>\n",
       "      <td>0.633800</td>\n",
       "      <td>0.633800</td>\n",
       "      <td>0.633800</td>\n",
       "    </tr>\n",
       "    <tr>\n",
       "      <th>macro avg</th>\n",
       "      <td>0.201971</td>\n",
       "      <td>0.211087</td>\n",
       "      <td>0.165565</td>\n",
       "    </tr>\n",
       "    <tr>\n",
       "      <th>weighted avg</th>\n",
       "      <td>0.962080</td>\n",
       "      <td>0.633800</td>\n",
       "      <td>0.762039</td>\n",
       "    </tr>\n",
       "  </tbody>\n",
       "</table>\n",
       "</div>"
      ],
      "text/plain": [
       "              precision    recall  f1-score\n",
       "1              0.004728  0.121212  0.009101\n",
       "2              0.000000  0.000000  0.000000\n",
       "3              0.001302  0.100000  0.002571\n",
       "4              0.021291  0.190476  0.038300\n",
       "5              0.982535  0.643747  0.777853\n",
       "accuracy       0.633800  0.633800  0.633800\n",
       "macro avg      0.201971  0.211087  0.165565\n",
       "weighted avg   0.962080  0.633800  0.762039"
      ]
     },
     "execution_count": 271,
     "metadata": {},
     "output_type": "execute_result"
    }
   ],
   "source": [
    "report = classification_report(validation_prediction, validation_Y, output_dict=True)\n",
    "report_dataframe = pd.DataFrame(report).transpose().drop(columns=['support'])\n",
    "report_dataframe"
   ]
  },
  {
   "cell_type": "markdown",
   "metadata": {},
   "source": [
    "Training set predictions"
   ]
  },
  {
   "cell_type": "markdown",
   "metadata": {},
   "source": [
    "Mean Absolute Error (MAE) is calculated by taking the summation of the absolute difference between the actual and calculated values of each observation over the entire array and then dividing the sum obtained by the number of observations in the array."
   ]
  },
  {
   "cell_type": "code",
   "execution_count": 272,
   "metadata": {},
   "outputs": [
    {
     "name": "stdout",
     "output_type": "stream",
     "text": [
      "Mean Absolute errors: 0.0 degrees.\n"
     ]
    },
    {
     "name": "stderr",
     "output_type": "stream",
     "text": [
      "[Parallel(n_jobs=4)]: Using backend ThreadingBackend with 4 concurrent workers.\n",
      "[Parallel(n_jobs=4)]: Done  30 out of  30 | elapsed:    0.0s finished\n"
     ]
    }
   ],
   "source": [
    "train_prediction = random_forest_in_greece.predict(train_X)\n",
    "errors = abs(train_prediction - train_Y)\n",
    "\n",
    "print('Mean Absolute errors:', round(np.mean(errors), 2), 'degrees.')"
   ]
  },
  {
   "cell_type": "code",
   "execution_count": 273,
   "metadata": {},
   "outputs": [
    {
     "data": {
      "text/plain": [
       "99.81620833333334"
      ]
     },
     "execution_count": 273,
     "metadata": {},
     "output_type": "execute_result"
    }
   ],
   "source": [
    "# Calculate mean absolute percentage error (MAPE)\n",
    "mape = np.mean(100 * (errors / train_Y))\n",
    "accuracy = 100 - mape\n",
    "accuracy"
   ]
  },
  {
   "cell_type": "code",
   "execution_count": 274,
   "metadata": {},
   "outputs": [
    {
     "data": {
      "text/plain": [
       "Text(0, 0.5, 'Number of Instances')"
      ]
     },
     "execution_count": 274,
     "metadata": {},
     "output_type": "execute_result"
    },
    {
     "data": {
      "image/png": "[encoded data removed]",
      "text/plain": [
       "<Figure size 640x480 with 1 Axes>"
      ]
     },
     "metadata": {},
     "output_type": "display_data"
    }
   ],
   "source": [
    "dataframe = pd.DataFrame(train_prediction)\n",
    "dataframe.hist()\n",
    "plt.title('Training Prediction Bins')\n",
    "\n",
    "plt.xlabel('Bin Labels')\n",
    "plt.ylabel('Number of Instances')"
   ]
  },
  {
   "cell_type": "markdown",
   "metadata": {},
   "source": [
    "F1 score is a little less intuitive because it combines precision and recall into one metric. If precision and recall are both high, F1 will be high, too."
   ]
  },
  {
   "cell_type": "code",
   "execution_count": 275,
   "metadata": {},
   "outputs": [
    {
     "data": {
      "text/html": [
       "<div>\n",
       "<style scoped>\n",
       "    .dataframe tbody tr th:only-of-type {\n",
       "        vertical-align: middle;\n",
       "    }\n",
       "\n",
       "    .dataframe tbody tr th {\n",
       "        vertical-align: top;\n",
       "    }\n",
       "\n",
       "    .dataframe thead th {\n",
       "        text-align: right;\n",
       "    }\n",
       "</style>\n",
       "<table border=\"1\" class=\"dataframe\">\n",
       "  <thead>\n",
       "    <tr style=\"text-align: right;\">\n",
       "      <th></th>\n",
       "      <th>precision</th>\n",
       "      <th>recall</th>\n",
       "      <th>f1-score</th>\n",
       "    </tr>\n",
       "  </thead>\n",
       "  <tbody>\n",
       "    <tr>\n",
       "      <th>1</th>\n",
       "      <td>0.997126</td>\n",
       "      <td>0.999760</td>\n",
       "      <td>0.998441</td>\n",
       "    </tr>\n",
       "    <tr>\n",
       "      <th>2</th>\n",
       "      <td>0.995507</td>\n",
       "      <td>1.000000</td>\n",
       "      <td>0.997748</td>\n",
       "    </tr>\n",
       "    <tr>\n",
       "      <th>3</th>\n",
       "      <td>0.995214</td>\n",
       "      <td>0.999679</td>\n",
       "      <td>0.997442</td>\n",
       "    </tr>\n",
       "    <tr>\n",
       "      <th>4</th>\n",
       "      <td>0.997529</td>\n",
       "      <td>0.997965</td>\n",
       "      <td>0.997747</td>\n",
       "    </tr>\n",
       "    <tr>\n",
       "      <th>5</th>\n",
       "      <td>0.999872</td>\n",
       "      <td>0.998205</td>\n",
       "      <td>0.999038</td>\n",
       "    </tr>\n",
       "    <tr>\n",
       "      <th>accuracy</th>\n",
       "      <td>0.998550</td>\n",
       "      <td>0.998550</td>\n",
       "      <td>0.998550</td>\n",
       "    </tr>\n",
       "    <tr>\n",
       "      <th>macro avg</th>\n",
       "      <td>0.997049</td>\n",
       "      <td>0.999122</td>\n",
       "      <td>0.998083</td>\n",
       "    </tr>\n",
       "    <tr>\n",
       "      <th>weighted avg</th>\n",
       "      <td>0.998554</td>\n",
       "      <td>0.998550</td>\n",
       "      <td>0.998551</td>\n",
       "    </tr>\n",
       "  </tbody>\n",
       "</table>\n",
       "</div>"
      ],
      "text/plain": [
       "              precision    recall  f1-score\n",
       "1              0.997126  0.999760  0.998441\n",
       "2              0.995507  1.000000  0.997748\n",
       "3              0.995214  0.999679  0.997442\n",
       "4              0.997529  0.997965  0.997747\n",
       "5              0.999872  0.998205  0.999038\n",
       "accuracy       0.998550  0.998550  0.998550\n",
       "macro avg      0.997049  0.999122  0.998083\n",
       "weighted avg   0.998554  0.998550  0.998551"
      ]
     },
     "execution_count": 275,
     "metadata": {},
     "output_type": "execute_result"
    }
   ],
   "source": [
    "\n",
    "report = classification_report(train_prediction, train_Y, output_dict=True)\n",
    "report_dataframe = pd.DataFrame(report).transpose().drop(columns=['support'])\n",
    "report_dataframe\n"
   ]
  },
  {
   "cell_type": "code",
   "execution_count": null,
   "metadata": {},
   "outputs": [],
   "source": []
  },
  {
   "cell_type": "code",
   "execution_count": null,
   "metadata": {},
   "outputs": [],
   "source": []
  }
 ],
 "metadata": {
  "kernelspec": {
   "display_name": "Python 3.10.2 64-bit",
   "language": "python",
   "name": "python3"
  },
  "language_info": {
   "codemirror_mode": {
    "name": "ipython",
    "version": 3
   },
   "file_extension": ".py",
   "mimetype": "text/x-python",
   "name": "python",
   "nbconvert_exporter": "python",
   "pygments_lexer": "ipython3",
   "version": "3.10.2"
  },
  "orig_nbformat": 4,
  "vscode": {
   "interpreter": {
    "hash": "369f2c481f4da34e4445cda3fffd2e751bd1c4d706f27375911949ba6bb62e1c"
   }
  }
 },
 "nbformat": 4,
 "nbformat_minor": 2
}
