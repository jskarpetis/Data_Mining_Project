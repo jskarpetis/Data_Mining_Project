{
 "cells": [
  {
   "cell_type": "code",
   "execution_count": 370,
   "metadata": {},
   "outputs": [],
   "source": [
    "import os\n",
    "import pandas as pd\n",
    "import numpy as np\n",
    "import re\n",
    "import matplotlib.pyplot as plt\n",
    "import random\n",
    "from keras.preprocessing.text import one_hot\n",
    "from keras.preprocessing.sequence import pad_sequences\n",
    "import tensorflow as tf\n",
    "from sklearn.preprocessing import StandardScaler\n",
    "from sklearn.ensemble import RandomForestRegressor"
   ]
  },
  {
   "cell_type": "code",
   "execution_count": 371,
   "metadata": {},
   "outputs": [],
   "source": [
    "vocab_size = 20000"
   ]
  },
  {
   "cell_type": "code",
   "execution_count": 372,
   "metadata": {},
   "outputs": [],
   "source": [
    "def tokenize_sentence(sentence):\n",
    "\n",
    "    # sentence_strip_commas = sentence.replace(\",\", \"\")\n",
    "    # sentence_strip_stops = sentence_strip_commas.replace(\".\", \"\")\n",
    "    # sentence_strip_marks = sentence_strip_stops.replace(\"?\", \"\")\n",
    "    # sentence_strip_stars = sentence_strip_marks.replace(\"*\", \"\")\n",
    "    # sentence_strip_stars = sentence_strip_marks.replace(\")\", \"\")\n",
    "    # sentence_strip_stars = sentence_strip_marks.replace(\"(\", \"\")\n",
    "\n",
    "    sentence_strip_numbers = re.sub(r\"[0-9]+\", \"\", sentence)\n",
    "    final_sentence = re.sub(\n",
    "        r\"!|@|#|$|%|^|&|:|;|'|<|>|/|-|=|(|)|\", \"\", sentence_strip_numbers)\n",
    "    final_sentence = re.sub('[\\W\\_]',' ', final_sentence)\n",
    "\n",
    "    split_sentence = re.split('\\s+', final_sentence)\n",
    "    # new_sentence = [word_tokenize(word) for word in split_sentence]\n",
    "    return split_sentence"
   ]
  },
  {
   "cell_type": "code",
   "execution_count": 373,
   "metadata": {},
   "outputs": [],
   "source": [
    "def pre_model_processing(summary):\n",
    "    tokenized_sentence = str(tokenize_sentence(summary))\n",
    "    # print(tokenized_sentence)\n",
    "    encoded_data = [one_hot(tokenized_sentence, vocab_size)]\n",
    "    # print(encoded_data)\n",
    "    return np.array(encoded_data[0])"
   ]
  },
  {
   "cell_type": "code",
   "execution_count": 374,
   "metadata": {},
   "outputs": [
    {
     "data": {
      "text/html": [
       "<div>\n",
       "<style scoped>\n",
       "    .dataframe tbody tr th:only-of-type {\n",
       "        vertical-align: middle;\n",
       "    }\n",
       "\n",
       "    .dataframe tbody tr th {\n",
       "        vertical-align: top;\n",
       "    }\n",
       "\n",
       "    .dataframe thead th {\n",
       "        text-align: right;\n",
       "    }\n",
       "</style>\n",
       "<table border=\"1\" class=\"dataframe\">\n",
       "  <thead>\n",
       "    <tr style=\"text-align: right;\">\n",
       "      <th></th>\n",
       "      <th>Text</th>\n",
       "      <th>Score</th>\n",
       "    </tr>\n",
       "  </thead>\n",
       "  <tbody>\n",
       "    <tr>\n",
       "      <th>0</th>\n",
       "      <td>The description and photo on this product need...</td>\n",
       "      <td>3</td>\n",
       "    </tr>\n",
       "    <tr>\n",
       "      <th>1</th>\n",
       "      <td>This was a great book!!!! It is well thought t...</td>\n",
       "      <td>5</td>\n",
       "    </tr>\n",
       "    <tr>\n",
       "      <th>2</th>\n",
       "      <td>I am a first year teacher, teaching 5th grade....</td>\n",
       "      <td>5</td>\n",
       "    </tr>\n",
       "    <tr>\n",
       "      <th>3</th>\n",
       "      <td>I got the book at my bookfair at school lookin...</td>\n",
       "      <td>5</td>\n",
       "    </tr>\n",
       "    <tr>\n",
       "      <th>4</th>\n",
       "      <td>Hi! I'm Martine Redman and I created this puzz...</td>\n",
       "      <td>5</td>\n",
       "    </tr>\n",
       "    <tr>\n",
       "      <th>5</th>\n",
       "      <td>My eight year old loves this game, whenever he...</td>\n",
       "      <td>5</td>\n",
       "    </tr>\n",
       "    <tr>\n",
       "      <th>6</th>\n",
       "      <td>The real joy of this movie doesn't lie in its ...</td>\n",
       "      <td>4</td>\n",
       "    </tr>\n",
       "    <tr>\n",
       "      <th>7</th>\n",
       "      <td>Okay, Tim Burton is genuine. He haunts you wit...</td>\n",
       "      <td>3</td>\n",
       "    </tr>\n",
       "    <tr>\n",
       "      <th>8</th>\n",
       "      <td>Boundaries, along with counseling, has given m...</td>\n",
       "      <td>5</td>\n",
       "    </tr>\n",
       "    <tr>\n",
       "      <th>9</th>\n",
       "      <td>120 colors? I say 120 sticks of fun! And a fre...</td>\n",
       "      <td>5</td>\n",
       "    </tr>\n",
       "  </tbody>\n",
       "</table>\n",
       "</div>"
      ],
      "text/plain": [
       "                                                Text  Score\n",
       "0  The description and photo on this product need...      3\n",
       "1  This was a great book!!!! It is well thought t...      5\n",
       "2  I am a first year teacher, teaching 5th grade....      5\n",
       "3  I got the book at my bookfair at school lookin...      5\n",
       "4  Hi! I'm Martine Redman and I created this puzz...      5\n",
       "5  My eight year old loves this game, whenever he...      5\n",
       "6  The real joy of this movie doesn't lie in its ...      4\n",
       "7  Okay, Tim Burton is genuine. He haunts you wit...      3\n",
       "8  Boundaries, along with counseling, has given m...      5\n",
       "9  120 colors? I say 120 sticks of fun! And a fre...      5"
      ]
     },
     "execution_count": 374,
     "metadata": {},
     "output_type": "execute_result"
    }
   ],
   "source": [
    "amazon_data = pd.read_csv('../dataset/amazon.csv')\n",
    "amazon_data.head(10)"
   ]
  },
  {
   "cell_type": "code",
   "execution_count": 375,
   "metadata": {},
   "outputs": [
    {
     "data": {
      "text/plain": [
       "array([[<AxesSubplot:title={'center':'Score'}>]], dtype=object)"
      ]
     },
     "execution_count": 375,
     "metadata": {},
     "output_type": "execute_result"
    },
    {
     "data": {
      "image/png": "[encoded data removed]",
      "text/plain": [
       "<Figure size 432x288 with 1 Axes>"
      ]
     },
     "metadata": {
      "needs_background": "light"
     },
     "output_type": "display_data"
    }
   ],
   "source": [
    "amazon_data.hist('Score')"
   ]
  },
  {
   "cell_type": "code",
   "execution_count": 376,
   "metadata": {},
   "outputs": [
    {
     "data": {
      "text/plain": [
       "0    The description and photo on this product need...\n",
       "1    This was a great book!!!! It is well thought t...\n",
       "2    I am a first year teacher, teaching 5th grade....\n",
       "3    I got the book at my bookfair at school lookin...\n",
       "4    Hi! I'm Martine Redman and I created this puzz...\n",
       "5    My eight year old loves this game, whenever he...\n",
       "6    The real joy of this movie doesn't lie in its ...\n",
       "7    Okay, Tim Burton is genuine. He haunts you wit...\n",
       "8    Boundaries, along with counseling, has given m...\n",
       "9    120 colors? I say 120 sticks of fun! And a fre...\n",
       "Name: Text, dtype: object"
      ]
     },
     "execution_count": 376,
     "metadata": {},
     "output_type": "execute_result"
    }
   ],
   "source": [
    "summaries = amazon_data['Text']\n",
    "summaries.head(10)"
   ]
  },
  {
   "cell_type": "code",
   "execution_count": 377,
   "metadata": {},
   "outputs": [
    {
     "data": {
      "text/plain": [
       "array(['The description and photo on this product needs to be changed to indicate this product is the BuffalOs version of this beef jerky.',\n",
       "       'This was a great book!!!! It is well thought through, and you can easily imagine the events happening. The Westing Game itself is a great way to tie two things together. The events are well sequenced and exciting. Ellen Raskin wrote a wonderful book',\n",
       "       \"I am a first year teacher, teaching 5th grade. I have a special reading class with high comprehension levels. Reading this book to them was one of the best things I taught them this year. It expanded their minds by allowing them to put themselves in the characters place and was easy for the students to make mind movies. We even used up a whole reading class time in order to finish the book. The students couldn't wait to hear the end. An excellent book that I will be reading every year to my students.\",\n",
       "       ...,\n",
       "       'This works great, but needs a better way to attach. We made our ow with a long stap and two clips that slip around the back of the seat and bed. Works much better',\n",
       "       \"she absolutely LOVES this thing. I dice up green beans and carrots (whatever fits but i like it be be somewhat healthy) and it usually takes her about 30 mins to get all the stuff out. She gets excercise, healthy treats and most of all she is quiet. She asks for it everynight around 7:30. If something happened to this one and the only other i could find cost $100...i would buy it. We have a daughter with e westie and he doesn't give a crap about it though.\",\n",
       "       'I hurt my neck and went to rehab. They had me doing exercises using these therabands to strengthen the areas around my neck.They sold these bands but at a high cost. I went online, searched for theraband and found these here at Amazon. I bought every single resistance bands they had.The colors represent their resistance, I believe yellow being the least, then red, green, blue and I think finally blue being the highest resistance.I like these longer bands since you can cut them where necessary to create whatever length you need.I use these every day to continue to strengthen the area around my neck.'],\n",
       "      dtype=object)"
      ]
     },
     "execution_count": 377,
     "metadata": {},
     "output_type": "execute_result"
    }
   ],
   "source": [
    "summaries_list = summaries.to_numpy()\n",
    "summaries_list"
   ]
  },
  {
   "cell_type": "code",
   "execution_count": 378,
   "metadata": {},
   "outputs": [],
   "source": [
    "max_len = 0\n",
    "processed_data = []\n",
    "for summary in summaries_list:\n",
    "    processed_data.append(pre_model_processing(summary))\n",
    "\n",
    "for summary in processed_data:\n",
    "    if len(summary) > max_len:\n",
    "        max_len = len(summary)\n",
    "\n",
    "\n",
    "processed_data = pad_sequences(processed_data, maxlen=max_len, padding='post')\n",
    "\n"
   ]
  },
  {
   "cell_type": "code",
   "execution_count": 379,
   "metadata": {},
   "outputs": [
    {
     "data": {
      "text/plain": [
       "array([[ 1.93970282, -0.90110899,  0.24253894, ..., -0.00447218,\n",
       "        -0.00447218, -0.00447218],\n",
       "       [ 0.46327959, -1.15032888, -1.21927269, ..., -0.00447218,\n",
       "        -0.00447218, -0.00447218],\n",
       "       [-0.80238043, -0.62718196, -1.21927269, ..., -0.00447218,\n",
       "        -0.00447218, -0.00447218],\n",
       "       ...,\n",
       "       [ 0.46327959, -0.51671596, -0.81519468, ..., -0.00447218,\n",
       "        -0.00447218, -0.00447218],\n",
       "       [ 1.8854448 ,  1.59860945, -1.11598113, ..., -0.00447218,\n",
       "        -0.00447218, -0.00447218],\n",
       "       [-0.80238043, -0.56004298,  0.12019698, ..., -0.00447218,\n",
       "        -0.00447218, -0.00447218]])"
      ]
     },
     "execution_count": 379,
     "metadata": {},
     "output_type": "execute_result"
    }
   ],
   "source": [
    "processed_data = np.array(processed_data)\n",
    "processed_data\n",
    "\n",
    "scaled_data = StandardScaler().fit_transform(processed_data)\n",
    "scaled_data"
   ]
  },
  {
   "cell_type": "code",
   "execution_count": 380,
   "metadata": {},
   "outputs": [
    {
     "name": "stdout",
     "output_type": "stream",
     "text": [
      "Train_X shape --> (40000, 1524)\tValidation_X shape --> (10000, 1524)\n",
      "Train_Y shape --> (40000,)\tValidation_Y --> (10000,)\n"
     ]
    }
   ],
   "source": [
    "train_X = processed_data[:int(len(processed_data) * 0.8)]\n",
    "validation_X = processed_data[int(len(processed_data) * 0.8):]\n",
    "train_Y = amazon_data['Score'].to_numpy()[:int(len(amazon_data)*0.8)]\n",
    "validation_Y = amazon_data['Score'].to_numpy()[int(len(amazon_data)*0.8):]\n",
    "print('Train_X shape --> {}\\tValidation_X shape --> {}'.format(train_X.shape, validation_X.shape))\n",
    "print('Train_Y shape --> {}\\tValidation_Y --> {}'.format(train_Y.shape, validation_Y.shape))\n"
   ]
  },
  {
   "cell_type": "markdown",
   "metadata": {},
   "source": [
    "TRAINING "
   ]
  },
  {
   "cell_type": "code",
   "execution_count": 395,
   "metadata": {},
   "outputs": [
    {
     "name": "stderr",
     "output_type": "stream",
     "text": [
      "[Parallel(n_jobs=1)]: Using backend SequentialBackend with 1 concurrent workers.\n"
     ]
    },
    {
     "name": "stdout",
     "output_type": "stream",
     "text": [
      "building tree 1 of 20\n"
     ]
    },
    {
     "name": "stderr",
     "output_type": "stream",
     "text": [
      "[Parallel(n_jobs=1)]: Done   1 out of   1 | elapsed:    7.3s remaining:    0.0s\n"
     ]
    },
    {
     "name": "stdout",
     "output_type": "stream",
     "text": [
      "building tree 2 of 20\n",
      "building tree 3 of 20\n",
      "building tree 4 of 20\n",
      "building tree 5 of 20\n",
      "building tree 6 of 20\n",
      "building tree 7 of 20\n",
      "building tree 8 of 20\n",
      "building tree 9 of 20\n",
      "building tree 10 of 20\n",
      "building tree 11 of 20\n",
      "building tree 12 of 20\n",
      "building tree 13 of 20\n",
      "building tree 14 of 20\n",
      "building tree 15 of 20\n",
      "building tree 16 of 20\n",
      "building tree 17 of 20\n",
      "building tree 18 of 20\n",
      "building tree 19 of 20\n",
      "building tree 20 of 20\n"
     ]
    },
    {
     "name": "stderr",
     "output_type": "stream",
     "text": [
      "[Parallel(n_jobs=1)]: Done  20 out of  20 | elapsed:  2.3min finished\n"
     ]
    },
    {
     "data": {
      "text/plain": [
       "RandomForestRegressor(n_estimators=20, verbose=2)"
      ]
     },
     "execution_count": 395,
     "metadata": {},
     "output_type": "execute_result"
    }
   ],
   "source": [
    "random_forest_in_greece = RandomForestRegressor(n_estimators=20, verbose=2)\n",
    "random_forest_in_greece.fit(train_X, train_Y)\n"
   ]
  },
  {
   "cell_type": "markdown",
   "metadata": {},
   "source": [
    "TESTING"
   ]
  },
  {
   "cell_type": "markdown",
   "metadata": {},
   "source": [
    "Validation Set Predictions"
   ]
  },
  {
   "cell_type": "code",
   "execution_count": 396,
   "metadata": {},
   "outputs": [
    {
     "name": "stdout",
     "output_type": "stream",
     "text": [
      "Mean Absolute errors: 1.02 degrees.\n"
     ]
    },
    {
     "name": "stderr",
     "output_type": "stream",
     "text": [
      "[Parallel(n_jobs=1)]: Using backend SequentialBackend with 1 concurrent workers.\n",
      "[Parallel(n_jobs=1)]: Done   1 out of   1 | elapsed:    0.0s remaining:    0.0s\n",
      "[Parallel(n_jobs=1)]: Done  20 out of  20 | elapsed:    0.0s finished\n"
     ]
    }
   ],
   "source": [
    "validation_prediction = random_forest_in_greece.predict(validation_X)\n",
    "errors = abs(validation_prediction - validation_Y)\n",
    "\n",
    "print('Mean Absolute errors:', round(np.mean(errors), 2), 'degrees.')"
   ]
  },
  {
   "cell_type": "code",
   "execution_count": 397,
   "metadata": {},
   "outputs": [
    {
     "data": {
      "text/plain": [
       "56.03151589928712"
      ]
     },
     "execution_count": 397,
     "metadata": {},
     "output_type": "execute_result"
    }
   ],
   "source": [
    "# Calculate mean absolute percentage error (MAPE)\n",
    "mape = np.mean(100 * (errors / validation_Y))\n",
    "accuracy = 100 - mape\n",
    "accuracy"
   ]
  },
  {
   "cell_type": "code",
   "execution_count": 398,
   "metadata": {},
   "outputs": [
    {
     "data": {
      "text/plain": [
       "array([[<AxesSubplot:title={'center':'0'}>]], dtype=object)"
      ]
     },
     "execution_count": 398,
     "metadata": {},
     "output_type": "execute_result"
    },
    {
     "data": {
      "image/png": "[encoded data removed]",
      "text/plain": [
       "<Figure size 432x288 with 1 Axes>"
      ]
     },
     "metadata": {
      "needs_background": "light"
     },
     "output_type": "display_data"
    }
   ],
   "source": [
    "dataframe = pd.DataFrame(validation_prediction)\n",
    "dataframe.hist()"
   ]
  },
  {
   "cell_type": "markdown",
   "metadata": {},
   "source": [
    "Training set predictions"
   ]
  },
  {
   "cell_type": "code",
   "execution_count": 399,
   "metadata": {},
   "outputs": [
    {
     "name": "stderr",
     "output_type": "stream",
     "text": [
      "[Parallel(n_jobs=1)]: Using backend SequentialBackend with 1 concurrent workers.\n",
      "[Parallel(n_jobs=1)]: Done   1 out of   1 | elapsed:    0.0s remaining:    0.0s\n"
     ]
    },
    {
     "name": "stdout",
     "output_type": "stream",
     "text": [
      "Mean Absolute errors: 0.41 degrees.\n"
     ]
    },
    {
     "name": "stderr",
     "output_type": "stream",
     "text": [
      "[Parallel(n_jobs=1)]: Done  20 out of  20 | elapsed:    0.2s finished\n"
     ]
    }
   ],
   "source": [
    "train_prediction = random_forest_in_greece.predict(train_X)\n",
    "errors = abs(train_prediction - train_Y)\n",
    "\n",
    "print('Mean Absolute errors:', round(np.mean(errors), 2), 'degrees.')"
   ]
  },
  {
   "cell_type": "code",
   "execution_count": 400,
   "metadata": {},
   "outputs": [
    {
     "data": {
      "text/plain": [
       "81.2515896214593"
      ]
     },
     "execution_count": 400,
     "metadata": {},
     "output_type": "execute_result"
    }
   ],
   "source": [
    "# Calculate mean absolute percentage error (MAPE)\n",
    "mape = np.mean(100 * (errors / train_Y))\n",
    "accuracy = 100 - mape\n",
    "accuracy"
   ]
  },
  {
   "cell_type": "code",
   "execution_count": 401,
   "metadata": {},
   "outputs": [
    {
     "data": {
      "text/plain": [
       "array([[<AxesSubplot:title={'center':'0'}>]], dtype=object)"
      ]
     },
     "execution_count": 401,
     "metadata": {},
     "output_type": "execute_result"
    },
    {
     "data": {
      "image/png": "[encoded data removed]",
      "text/plain": [
       "<Figure size 432x288 with 1 Axes>"
      ]
     },
     "metadata": {
      "needs_background": "light"
     },
     "output_type": "display_data"
    }
   ],
   "source": [
    "dataframe = pd.DataFrame(train_prediction)\n",
    "dataframe.hist()"
   ]
  },
  {
   "cell_type": "code",
   "execution_count": null,
   "metadata": {},
   "outputs": [],
   "source": []
  },
  {
   "cell_type": "code",
   "execution_count": null,
   "metadata": {},
   "outputs": [],
   "source": []
  },
  {
   "cell_type": "code",
   "execution_count": null,
   "metadata": {},
   "outputs": [],
   "source": []
  },
  {
   "cell_type": "code",
   "execution_count": null,
   "metadata": {},
   "outputs": [],
   "source": []
  }
 ],
 "metadata": {
  "kernelspec": {
   "display_name": "Python 3.10.4 64-bit",
   "language": "python",
   "name": "python3"
  },
  "language_info": {
   "name": "python",
   "version": "3.10.4"
  },
  "orig_nbformat": 4,
  "vscode": {
   "interpreter": {
    "hash": "298c7929d1fddf9f6c2181f0b3e4fd490618c13771183ec7db984d9be33e38de"
   }
  }
 },
 "nbformat": 4,
 "nbformat_minor": 2
}
